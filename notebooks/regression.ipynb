{
 "cells": [
  {
   "cell_type": "code",
   "execution_count": 1,
   "id": "181b10e8",
   "metadata": {},
   "outputs": [],
   "source": [
    "import numpy as np\n",
    "import pandas as pd\n",
    "import warnings\n",
    "warnings.filterwarnings('ignore')\n",
    "%matplotlib inline"
   ]
  },
  {
   "cell_type": "code",
   "execution_count": null,
   "id": "d37c2524",
   "metadata": {},
   "outputs": [],
   "source": [
    "df = pd.read_csv('../Churn_Modelling.csv')"
   ]
  },
  {
   "cell_type": "code",
   "execution_count": 3,
   "id": "f6ec151c",
   "metadata": {},
   "outputs": [
    {
     "data": {
      "text/plain": [
       "Index(['RowNumber', 'CustomerId', 'Surname', 'CreditScore', 'Geography',\n",
       "       'Gender', 'Age', 'Tenure', 'Balance', 'NumOfProducts', 'HasCrCard',\n",
       "       'IsActiveMember', 'EstimatedSalary', 'Exited'],\n",
       "      dtype='object')"
      ]
     },
     "execution_count": 3,
     "metadata": {},
     "output_type": "execute_result"
    }
   ],
   "source": [
    "df.columns"
   ]
  },
  {
   "cell_type": "code",
   "execution_count": null,
   "id": "e470bee8",
   "metadata": {},
   "outputs": [],
   "source": [
    "df = df.drop(columns=['RowNumber', 'CustomerId', 'Surname',])"
   ]
  },
  {
   "cell_type": "code",
   "execution_count": null,
   "id": "89aaccee",
   "metadata": {},
   "outputs": [],
   "source": [
    "X, y = df.drop(columns=['EstimatedSalary']), df['EstimatedSalary']"
   ]
  },
  {
   "cell_type": "code",
   "execution_count": 6,
   "id": "ca1c05c5",
   "metadata": {},
   "outputs": [
    {
     "data": {
      "text/plain": [
       "Index(['CreditScore', 'Geography', 'Gender', 'Age', 'Tenure', 'Balance',\n",
       "       'NumOfProducts', 'HasCrCard', 'IsActiveMember', 'Exited'],\n",
       "      dtype='object')"
      ]
     },
     "execution_count": 6,
     "metadata": {},
     "output_type": "execute_result"
    }
   ],
   "source": [
    "X.columns"
   ]
  },
  {
   "cell_type": "code",
   "execution_count": 25,
   "id": "b2a3fa45",
   "metadata": {},
   "outputs": [
    {
     "data": {
      "text/plain": [
       "0       101348.88\n",
       "1       112542.58\n",
       "2       113931.57\n",
       "3        93826.63\n",
       "4        79084.10\n",
       "          ...    \n",
       "9995     96270.64\n",
       "9996    101699.77\n",
       "9997     42085.58\n",
       "9998     92888.52\n",
       "9999     38190.78\n",
       "Name: EstimatedSalary, Length: 10000, dtype: float64"
      ]
     },
     "execution_count": 25,
     "metadata": {},
     "output_type": "execute_result"
    }
   ],
   "source": [
    "y"
   ]
  },
  {
   "cell_type": "code",
   "execution_count": 8,
   "id": "23e4dc5f",
   "metadata": {},
   "outputs": [],
   "source": [
    "from sklearn.preprocessing import OneHotEncoder, OrdinalEncoder, StandardScaler\n",
    "from sklearn.compose import ColumnTransformer\n",
    "ctf = ColumnTransformer(\n",
    "    [\n",
    "        ('ohe_geo', OneHotEncoder(drop='first'), ['Geography']),\n",
    "        ('ord_gender', OrdinalEncoder(), ['Gender']),\n",
    "        ('scale_remaining', StandardScaler(), ['CreditScore', 'Age', 'Tenure', 'Balance',\n",
    "                                               'NumOfProducts', 'HasCrCard', 'IsActiveMember', 'Exited'])\n",
    "    ]\n",
    ")"
   ]
  },
  {
   "cell_type": "code",
   "execution_count": 9,
   "id": "eac99826",
   "metadata": {},
   "outputs": [],
   "source": [
    "from sklearn.model_selection import train_test_split\n",
    "X_train,X_test,y_train,y_test=train_test_split(X,y,test_size=0.3)"
   ]
  },
  {
   "cell_type": "code",
   "execution_count": 10,
   "id": "772ec9bb",
   "metadata": {},
   "outputs": [],
   "source": [
    "X_train_transformed=ctf.fit_transform(X_train)"
   ]
  },
  {
   "cell_type": "code",
   "execution_count": 13,
   "id": "757319fa",
   "metadata": {},
   "outputs": [
    {
     "data": {
      "text/html": [
       "<div>\n",
       "<style scoped>\n",
       "    .dataframe tbody tr th:only-of-type {\n",
       "        vertical-align: middle;\n",
       "    }\n",
       "\n",
       "    .dataframe tbody tr th {\n",
       "        vertical-align: top;\n",
       "    }\n",
       "\n",
       "    .dataframe thead th {\n",
       "        text-align: right;\n",
       "    }\n",
       "</style>\n",
       "<table border=\"1\" class=\"dataframe\">\n",
       "  <thead>\n",
       "    <tr style=\"text-align: right;\">\n",
       "      <th></th>\n",
       "      <th>ohe_geo__Geography_Germany</th>\n",
       "      <th>ohe_geo__Geography_Spain</th>\n",
       "      <th>ord_gender__Gender</th>\n",
       "      <th>scale_remaining__CreditScore</th>\n",
       "      <th>scale_remaining__Age</th>\n",
       "      <th>scale_remaining__Tenure</th>\n",
       "      <th>scale_remaining__Balance</th>\n",
       "      <th>scale_remaining__NumOfProducts</th>\n",
       "      <th>scale_remaining__HasCrCard</th>\n",
       "      <th>scale_remaining__IsActiveMember</th>\n",
       "      <th>scale_remaining__Exited</th>\n",
       "    </tr>\n",
       "  </thead>\n",
       "  <tbody>\n",
       "    <tr>\n",
       "      <th>0</th>\n",
       "      <td>0.0</td>\n",
       "      <td>0.0</td>\n",
       "      <td>1.0</td>\n",
       "      <td>0.242678</td>\n",
       "      <td>-0.466495</td>\n",
       "      <td>-1.388428</td>\n",
       "      <td>0.767473</td>\n",
       "      <td>0.829232</td>\n",
       "      <td>-1.549099</td>\n",
       "      <td>0.964073</td>\n",
       "      <td>-0.504015</td>\n",
       "    </tr>\n",
       "    <tr>\n",
       "      <th>1</th>\n",
       "      <td>0.0</td>\n",
       "      <td>0.0</td>\n",
       "      <td>1.0</td>\n",
       "      <td>-0.530402</td>\n",
       "      <td>-0.182648</td>\n",
       "      <td>-1.388428</td>\n",
       "      <td>1.056934</td>\n",
       "      <td>-0.906081</td>\n",
       "      <td>-1.549099</td>\n",
       "      <td>0.964073</td>\n",
       "      <td>-0.504015</td>\n",
       "    </tr>\n",
       "    <tr>\n",
       "      <th>2</th>\n",
       "      <td>0.0</td>\n",
       "      <td>0.0</td>\n",
       "      <td>0.0</td>\n",
       "      <td>1.345605</td>\n",
       "      <td>-0.371879</td>\n",
       "      <td>-0.352877</td>\n",
       "      <td>-1.231649</td>\n",
       "      <td>-0.906081</td>\n",
       "      <td>0.645536</td>\n",
       "      <td>0.964073</td>\n",
       "      <td>-0.504015</td>\n",
       "    </tr>\n",
       "    <tr>\n",
       "      <th>3</th>\n",
       "      <td>0.0</td>\n",
       "      <td>1.0</td>\n",
       "      <td>1.0</td>\n",
       "      <td>-0.386094</td>\n",
       "      <td>-0.277264</td>\n",
       "      <td>-0.007693</td>\n",
       "      <td>-1.231649</td>\n",
       "      <td>0.829232</td>\n",
       "      <td>0.645536</td>\n",
       "      <td>-1.037265</td>\n",
       "      <td>-0.504015</td>\n",
       "    </tr>\n",
       "    <tr>\n",
       "      <th>4</th>\n",
       "      <td>1.0</td>\n",
       "      <td>0.0</td>\n",
       "      <td>0.0</td>\n",
       "      <td>0.046831</td>\n",
       "      <td>-1.507264</td>\n",
       "      <td>-0.352877</td>\n",
       "      <td>1.391986</td>\n",
       "      <td>-0.906081</td>\n",
       "      <td>-1.549099</td>\n",
       "      <td>0.964073</td>\n",
       "      <td>-0.504015</td>\n",
       "    </tr>\n",
       "    <tr>\n",
       "      <th>...</th>\n",
       "      <td>...</td>\n",
       "      <td>...</td>\n",
       "      <td>...</td>\n",
       "      <td>...</td>\n",
       "      <td>...</td>\n",
       "      <td>...</td>\n",
       "      <td>...</td>\n",
       "      <td>...</td>\n",
       "      <td>...</td>\n",
       "      <td>...</td>\n",
       "      <td>...</td>\n",
       "    </tr>\n",
       "    <tr>\n",
       "      <th>6995</th>\n",
       "      <td>1.0</td>\n",
       "      <td>0.0</td>\n",
       "      <td>1.0</td>\n",
       "      <td>0.510679</td>\n",
       "      <td>-0.655726</td>\n",
       "      <td>-0.007693</td>\n",
       "      <td>0.412644</td>\n",
       "      <td>-0.906081</td>\n",
       "      <td>-1.549099</td>\n",
       "      <td>-1.037265</td>\n",
       "      <td>-0.504015</td>\n",
       "    </tr>\n",
       "    <tr>\n",
       "      <th>6996</th>\n",
       "      <td>1.0</td>\n",
       "      <td>0.0</td>\n",
       "      <td>1.0</td>\n",
       "      <td>0.139601</td>\n",
       "      <td>-0.655726</td>\n",
       "      <td>-1.388428</td>\n",
       "      <td>0.888738</td>\n",
       "      <td>-0.906081</td>\n",
       "      <td>-1.549099</td>\n",
       "      <td>-1.037265</td>\n",
       "      <td>-0.504015</td>\n",
       "    </tr>\n",
       "    <tr>\n",
       "      <th>6997</th>\n",
       "      <td>0.0</td>\n",
       "      <td>1.0</td>\n",
       "      <td>1.0</td>\n",
       "      <td>-2.427024</td>\n",
       "      <td>-0.371879</td>\n",
       "      <td>1.027859</td>\n",
       "      <td>-1.231649</td>\n",
       "      <td>-0.906081</td>\n",
       "      <td>-1.549099</td>\n",
       "      <td>-1.037265</td>\n",
       "      <td>-0.504015</td>\n",
       "    </tr>\n",
       "    <tr>\n",
       "      <th>6998</th>\n",
       "      <td>0.0</td>\n",
       "      <td>0.0</td>\n",
       "      <td>0.0</td>\n",
       "      <td>-0.344863</td>\n",
       "      <td>0.101198</td>\n",
       "      <td>-1.733612</td>\n",
       "      <td>-1.231649</td>\n",
       "      <td>-0.906081</td>\n",
       "      <td>0.645536</td>\n",
       "      <td>-1.037265</td>\n",
       "      <td>-0.504015</td>\n",
       "    </tr>\n",
       "    <tr>\n",
       "      <th>6999</th>\n",
       "      <td>1.0</td>\n",
       "      <td>0.0</td>\n",
       "      <td>0.0</td>\n",
       "      <td>-2.427024</td>\n",
       "      <td>-1.318034</td>\n",
       "      <td>-1.733612</td>\n",
       "      <td>0.336263</td>\n",
       "      <td>0.829232</td>\n",
       "      <td>0.645536</td>\n",
       "      <td>0.964073</td>\n",
       "      <td>-0.504015</td>\n",
       "    </tr>\n",
       "  </tbody>\n",
       "</table>\n",
       "<p>7000 rows × 11 columns</p>\n",
       "</div>"
      ],
      "text/plain": [
       "      ohe_geo__Geography_Germany  ohe_geo__Geography_Spain  \\\n",
       "0                            0.0                       0.0   \n",
       "1                            0.0                       0.0   \n",
       "2                            0.0                       0.0   \n",
       "3                            0.0                       1.0   \n",
       "4                            1.0                       0.0   \n",
       "...                          ...                       ...   \n",
       "6995                         1.0                       0.0   \n",
       "6996                         1.0                       0.0   \n",
       "6997                         0.0                       1.0   \n",
       "6998                         0.0                       0.0   \n",
       "6999                         1.0                       0.0   \n",
       "\n",
       "      ord_gender__Gender  scale_remaining__CreditScore  scale_remaining__Age  \\\n",
       "0                    1.0                      0.242678             -0.466495   \n",
       "1                    1.0                     -0.530402             -0.182648   \n",
       "2                    0.0                      1.345605             -0.371879   \n",
       "3                    1.0                     -0.386094             -0.277264   \n",
       "4                    0.0                      0.046831             -1.507264   \n",
       "...                  ...                           ...                   ...   \n",
       "6995                 1.0                      0.510679             -0.655726   \n",
       "6996                 1.0                      0.139601             -0.655726   \n",
       "6997                 1.0                     -2.427024             -0.371879   \n",
       "6998                 0.0                     -0.344863              0.101198   \n",
       "6999                 0.0                     -2.427024             -1.318034   \n",
       "\n",
       "      scale_remaining__Tenure  scale_remaining__Balance  \\\n",
       "0                   -1.388428                  0.767473   \n",
       "1                   -1.388428                  1.056934   \n",
       "2                   -0.352877                 -1.231649   \n",
       "3                   -0.007693                 -1.231649   \n",
       "4                   -0.352877                  1.391986   \n",
       "...                       ...                       ...   \n",
       "6995                -0.007693                  0.412644   \n",
       "6996                -1.388428                  0.888738   \n",
       "6997                 1.027859                 -1.231649   \n",
       "6998                -1.733612                 -1.231649   \n",
       "6999                -1.733612                  0.336263   \n",
       "\n",
       "      scale_remaining__NumOfProducts  scale_remaining__HasCrCard  \\\n",
       "0                           0.829232                   -1.549099   \n",
       "1                          -0.906081                   -1.549099   \n",
       "2                          -0.906081                    0.645536   \n",
       "3                           0.829232                    0.645536   \n",
       "4                          -0.906081                   -1.549099   \n",
       "...                              ...                         ...   \n",
       "6995                       -0.906081                   -1.549099   \n",
       "6996                       -0.906081                   -1.549099   \n",
       "6997                       -0.906081                   -1.549099   \n",
       "6998                       -0.906081                    0.645536   \n",
       "6999                        0.829232                    0.645536   \n",
       "\n",
       "      scale_remaining__IsActiveMember  scale_remaining__Exited  \n",
       "0                            0.964073                -0.504015  \n",
       "1                            0.964073                -0.504015  \n",
       "2                            0.964073                -0.504015  \n",
       "3                           -1.037265                -0.504015  \n",
       "4                            0.964073                -0.504015  \n",
       "...                               ...                      ...  \n",
       "6995                        -1.037265                -0.504015  \n",
       "6996                        -1.037265                -0.504015  \n",
       "6997                        -1.037265                -0.504015  \n",
       "6998                        -1.037265                -0.504015  \n",
       "6999                         0.964073                -0.504015  \n",
       "\n",
       "[7000 rows x 11 columns]"
      ]
     },
     "execution_count": 13,
     "metadata": {},
     "output_type": "execute_result"
    }
   ],
   "source": [
    "pd.DataFrame(X_train_transformed,columns=ctf.get_feature_names_out())"
   ]
  },
  {
   "cell_type": "markdown",
   "id": "a1927ce6",
   "metadata": {},
   "source": [
    "#### Ann Regression"
   ]
  },
  {
   "cell_type": "code",
   "execution_count": 15,
   "id": "7cca206e",
   "metadata": {},
   "outputs": [],
   "source": [
    "import tensorflow as tf #For different attributes like losses, optimizers\n",
    "from tensorflow.keras.models import Sequential #ann\n",
    "from tensorflow.keras.layers import Dense  #hidden layers\n",
    "from tensorflow.keras.callbacks import EarlyStopping,TensorBoard   #logging"
   ]
  },
  {
   "cell_type": "code",
   "execution_count": 16,
   "id": "39da1b08",
   "metadata": {},
   "outputs": [],
   "source": [
    "# 1. Create the model and pass the layers\n",
    "# Dense(no of nuerons,activation function,input shape in first hl)\n",
    "model = Sequential([\n",
    "    Dense(64, activation='relu', input_shape=(X_train_transformed.shape[1],)),  # hl1\n",
    "    Dense(32, activation='relu'),  # hl2\n",
    "    Dense(1)  # output layer- no or by default linear activation fn\n",
    "])"
   ]
  },
  {
   "cell_type": "code",
   "execution_count": 17,
   "id": "863b7994",
   "metadata": {},
   "outputs": [
    {
     "data": {
      "text/html": [
       "<pre style=\"white-space:pre;overflow-x:auto;line-height:normal;font-family:Menlo,'DejaVu Sans Mono',consolas,'Courier New',monospace\"><span style=\"font-weight: bold\">Model: \"sequential\"</span>\n",
       "</pre>\n"
      ],
      "text/plain": [
       "\u001b[1mModel: \"sequential\"\u001b[0m\n"
      ]
     },
     "metadata": {},
     "output_type": "display_data"
    },
    {
     "data": {
      "text/html": [
       "<pre style=\"white-space:pre;overflow-x:auto;line-height:normal;font-family:Menlo,'DejaVu Sans Mono',consolas,'Courier New',monospace\">┏━━━━━━━━━━━━━━━━━━━━━━━━━━━━━━━━━┳━━━━━━━━━━━━━━━━━━━━━━━━┳━━━━━━━━━━━━━━━┓\n",
       "┃<span style=\"font-weight: bold\"> Layer (type)                    </span>┃<span style=\"font-weight: bold\"> Output Shape           </span>┃<span style=\"font-weight: bold\">       Param # </span>┃\n",
       "┡━━━━━━━━━━━━━━━━━━━━━━━━━━━━━━━━━╇━━━━━━━━━━━━━━━━━━━━━━━━╇━━━━━━━━━━━━━━━┩\n",
       "│ dense (<span style=\"color: #0087ff; text-decoration-color: #0087ff\">Dense</span>)                   │ (<span style=\"color: #00d7ff; text-decoration-color: #00d7ff\">None</span>, <span style=\"color: #00af00; text-decoration-color: #00af00\">64</span>)             │           <span style=\"color: #00af00; text-decoration-color: #00af00\">768</span> │\n",
       "├─────────────────────────────────┼────────────────────────┼───────────────┤\n",
       "│ dense_1 (<span style=\"color: #0087ff; text-decoration-color: #0087ff\">Dense</span>)                 │ (<span style=\"color: #00d7ff; text-decoration-color: #00d7ff\">None</span>, <span style=\"color: #00af00; text-decoration-color: #00af00\">32</span>)             │         <span style=\"color: #00af00; text-decoration-color: #00af00\">2,080</span> │\n",
       "├─────────────────────────────────┼────────────────────────┼───────────────┤\n",
       "│ dense_2 (<span style=\"color: #0087ff; text-decoration-color: #0087ff\">Dense</span>)                 │ (<span style=\"color: #00d7ff; text-decoration-color: #00d7ff\">None</span>, <span style=\"color: #00af00; text-decoration-color: #00af00\">1</span>)              │            <span style=\"color: #00af00; text-decoration-color: #00af00\">33</span> │\n",
       "└─────────────────────────────────┴────────────────────────┴───────────────┘\n",
       "</pre>\n"
      ],
      "text/plain": [
       "┏━━━━━━━━━━━━━━━━━━━━━━━━━━━━━━━━━┳━━━━━━━━━━━━━━━━━━━━━━━━┳━━━━━━━━━━━━━━━┓\n",
       "┃\u001b[1m \u001b[0m\u001b[1mLayer (type)                   \u001b[0m\u001b[1m \u001b[0m┃\u001b[1m \u001b[0m\u001b[1mOutput Shape          \u001b[0m\u001b[1m \u001b[0m┃\u001b[1m \u001b[0m\u001b[1m      Param #\u001b[0m\u001b[1m \u001b[0m┃\n",
       "┡━━━━━━━━━━━━━━━━━━━━━━━━━━━━━━━━━╇━━━━━━━━━━━━━━━━━━━━━━━━╇━━━━━━━━━━━━━━━┩\n",
       "│ dense (\u001b[38;5;33mDense\u001b[0m)                   │ (\u001b[38;5;45mNone\u001b[0m, \u001b[38;5;34m64\u001b[0m)             │           \u001b[38;5;34m768\u001b[0m │\n",
       "├─────────────────────────────────┼────────────────────────┼───────────────┤\n",
       "│ dense_1 (\u001b[38;5;33mDense\u001b[0m)                 │ (\u001b[38;5;45mNone\u001b[0m, \u001b[38;5;34m32\u001b[0m)             │         \u001b[38;5;34m2,080\u001b[0m │\n",
       "├─────────────────────────────────┼────────────────────────┼───────────────┤\n",
       "│ dense_2 (\u001b[38;5;33mDense\u001b[0m)                 │ (\u001b[38;5;45mNone\u001b[0m, \u001b[38;5;34m1\u001b[0m)              │            \u001b[38;5;34m33\u001b[0m │\n",
       "└─────────────────────────────────┴────────────────────────┴───────────────┘\n"
      ]
     },
     "metadata": {},
     "output_type": "display_data"
    },
    {
     "data": {
      "text/html": [
       "<pre style=\"white-space:pre;overflow-x:auto;line-height:normal;font-family:Menlo,'DejaVu Sans Mono',consolas,'Courier New',monospace\"><span style=\"font-weight: bold\"> Total params: </span><span style=\"color: #00af00; text-decoration-color: #00af00\">2,881</span> (11.25 KB)\n",
       "</pre>\n"
      ],
      "text/plain": [
       "\u001b[1m Total params: \u001b[0m\u001b[38;5;34m2,881\u001b[0m (11.25 KB)\n"
      ]
     },
     "metadata": {},
     "output_type": "display_data"
    },
    {
     "data": {
      "text/html": [
       "<pre style=\"white-space:pre;overflow-x:auto;line-height:normal;font-family:Menlo,'DejaVu Sans Mono',consolas,'Courier New',monospace\"><span style=\"font-weight: bold\"> Trainable params: </span><span style=\"color: #00af00; text-decoration-color: #00af00\">2,881</span> (11.25 KB)\n",
       "</pre>\n"
      ],
      "text/plain": [
       "\u001b[1m Trainable params: \u001b[0m\u001b[38;5;34m2,881\u001b[0m (11.25 KB)\n"
      ]
     },
     "metadata": {},
     "output_type": "display_data"
    },
    {
     "data": {
      "text/html": [
       "<pre style=\"white-space:pre;overflow-x:auto;line-height:normal;font-family:Menlo,'DejaVu Sans Mono',consolas,'Courier New',monospace\"><span style=\"font-weight: bold\"> Non-trainable params: </span><span style=\"color: #00af00; text-decoration-color: #00af00\">0</span> (0.00 B)\n",
       "</pre>\n"
      ],
      "text/plain": [
       "\u001b[1m Non-trainable params: \u001b[0m\u001b[38;5;34m0\u001b[0m (0.00 B)\n"
      ]
     },
     "metadata": {},
     "output_type": "display_data"
    }
   ],
   "source": [
    "model.summary()"
   ]
  },
  {
   "cell_type": "code",
   "execution_count": 53,
   "id": "754d90f7",
   "metadata": {},
   "outputs": [],
   "source": [
    "opt=tf.optimizers.Adam(learning_rate=0.001)\n",
    "loss=tf.losses.MeanSquaredError()"
   ]
  },
  {
   "cell_type": "code",
   "execution_count": 54,
   "id": "4dc768db",
   "metadata": {},
   "outputs": [],
   "source": [
    "# 3.compile model- we can use different metrics parameter also\n",
    "model.compile(loss=loss,optimizer=opt,metrics=['mae'])"
   ]
  },
  {
   "cell_type": "code",
   "execution_count": 55,
   "id": "8465a5e1",
   "metadata": {},
   "outputs": [],
   "source": [
    "# 4. Add callbacks(here 2 : tensorboard,earlystopping)\n",
    "import datetime\n",
    "log_dir = 'reg_logs/dir'+datetime.datetime.now().strftime(\"%Y%m%d-%H%M%S\")\n",
    "tf_callback = TensorBoard(log_dir=log_dir, histogram_freq=1)\n",
    "# histogram_freq=1 means on every epoch we save logs"
   ]
  },
  {
   "cell_type": "code",
   "execution_count": 56,
   "id": "1ff0ca1c",
   "metadata": {},
   "outputs": [],
   "source": [
    "early_stopping = EarlyStopping(\n",
    "    patience=10, monitor='val_loss', restore_best_weights=True)"
   ]
  },
  {
   "cell_type": "code",
   "execution_count": 57,
   "metadata": {},
   "outputs": [],
   "source": [
    "X_test_transformed=ctf.transform(X_test)"
   ]
  },
  {
   "cell_type": "code",
   "execution_count": 58,
   "id": "0ef54ddb",
   "metadata": {},
   "outputs": [
    {
     "name": "stdout",
     "output_type": "stream",
     "text": [
      "Epoch 1/100\n",
      "\u001b[1m219/219\u001b[0m \u001b[32m━━━━━━━━━━━━━━━━━━━━\u001b[0m\u001b[37m\u001b[0m \u001b[1m1s\u001b[0m 2ms/step - loss: 3311056896.0000 - mae: 49730.9609 - val_loss: 3286807552.0000 - val_mae: 49249.6836\n",
      "Epoch 2/100\n",
      "\u001b[1m219/219\u001b[0m \u001b[32m━━━━━━━━━━━━━━━━━━━━\u001b[0m\u001b[37m\u001b[0m \u001b[1m0s\u001b[0m 2ms/step - loss: 3256875520.0000 - mae: 49362.2383 - val_loss: 3286748160.0000 - val_mae: 49251.0898\n",
      "Epoch 3/100\n",
      "\u001b[1m219/219\u001b[0m \u001b[32m━━━━━━━━━━━━━━━━━━━━\u001b[0m\u001b[37m\u001b[0m \u001b[1m0s\u001b[0m 2ms/step - loss: 3296357888.0000 - mae: 49778.3125 - val_loss: 3287453184.0000 - val_mae: 49251.6797\n",
      "Epoch 4/100\n",
      "\u001b[1m219/219\u001b[0m \u001b[32m━━━━━━━━━━━━━━━━━━━━\u001b[0m\u001b[37m\u001b[0m \u001b[1m1s\u001b[0m 2ms/step - loss: 3269038848.0000 - mae: 49466.1211 - val_loss: 3288270848.0000 - val_mae: 49254.3164\n",
      "Epoch 5/100\n",
      "\u001b[1m219/219\u001b[0m \u001b[32m━━━━━━━━━━━━━━━━━━━━\u001b[0m\u001b[37m\u001b[0m \u001b[1m0s\u001b[0m 2ms/step - loss: 3248034560.0000 - mae: 49141.4375 - val_loss: 3287329792.0000 - val_mae: 49253.3125\n",
      "Epoch 6/100\n",
      "\u001b[1m219/219\u001b[0m \u001b[32m━━━━━━━━━━━━━━━━━━━━\u001b[0m\u001b[37m\u001b[0m \u001b[1m0s\u001b[0m 2ms/step - loss: 3240016640.0000 - mae: 49106.6172 - val_loss: 3287723008.0000 - val_mae: 49254.3789\n",
      "Epoch 7/100\n",
      "\u001b[1m219/219\u001b[0m \u001b[32m━━━━━━━━━━━━━━━━━━━━\u001b[0m\u001b[37m\u001b[0m \u001b[1m0s\u001b[0m 2ms/step - loss: 3331335680.0000 - mae: 50007.2578 - val_loss: 3288346624.0000 - val_mae: 49255.7266\n",
      "Epoch 8/100\n",
      "\u001b[1m219/219\u001b[0m \u001b[32m━━━━━━━━━━━━━━━━━━━━\u001b[0m\u001b[37m\u001b[0m \u001b[1m0s\u001b[0m 2ms/step - loss: 3299995392.0000 - mae: 49825.1484 - val_loss: 3288144128.0000 - val_mae: 49256.7539\n",
      "Epoch 9/100\n",
      "\u001b[1m219/219\u001b[0m \u001b[32m━━━━━━━━━━━━━━━━━━━━\u001b[0m\u001b[37m\u001b[0m \u001b[1m0s\u001b[0m 2ms/step - loss: 3234018560.0000 - mae: 49139.5586 - val_loss: 3288636672.0000 - val_mae: 49256.1133\n",
      "Epoch 10/100\n",
      "\u001b[1m219/219\u001b[0m \u001b[32m━━━━━━━━━━━━━━━━━━━━\u001b[0m\u001b[37m\u001b[0m \u001b[1m0s\u001b[0m 2ms/step - loss: 3255728128.0000 - mae: 49219.5156 - val_loss: 3288082432.0000 - val_mae: 49256.1328\n",
      "Epoch 11/100\n",
      "\u001b[1m219/219\u001b[0m \u001b[32m━━━━━━━━━━━━━━━━━━━━\u001b[0m\u001b[37m\u001b[0m \u001b[1m0s\u001b[0m 2ms/step - loss: 3279421696.0000 - mae: 49474.7422 - val_loss: 3288406784.0000 - val_mae: 49257.9531\n",
      "Epoch 12/100\n",
      "\u001b[1m219/219\u001b[0m \u001b[32m━━━━━━━━━━━━━━━━━━━━\u001b[0m\u001b[37m\u001b[0m \u001b[1m0s\u001b[0m 2ms/step - loss: 3301124864.0000 - mae: 49720.2539 - val_loss: 3287973632.0000 - val_mae: 49256.4375\n"
     ]
    }
   ],
   "source": [
    "history = model.fit(X_train_transformed, y_train, validation_data=(\n",
    "    X_test_transformed, y_test), callbacks=[early_stopping, tf_callback],epochs=100)"
   ]
  },
  {
   "cell_type": "code",
   "execution_count": 59,
   "id": "657dc4bc",
   "metadata": {},
   "outputs": [
    {
     "name": "stdout",
     "output_type": "stream",
     "text": [
      "\u001b[1m94/94\u001b[0m \u001b[32m━━━━━━━━━━━━━━━━━━━━\u001b[0m\u001b[37m\u001b[0m \u001b[1m0s\u001b[0m 878us/step\n",
      "Test R2 Score: -0.0037721881729799733\n"
     ]
    }
   ],
   "source": [
    "from sklearn.metrics import r2_score as sklearn_r2\n",
    "\n",
    "y_pred_test = model.predict(X_test_transformed)\n",
    "print(\"Test R2 Score:\", sklearn_r2(y_test, y_pred_test))\n"
   ]
  },
  {
   "cell_type": "code",
   "execution_count": null,
   "id": "ec9f0791",
   "metadata": {},
   "outputs": [],
   "source": []
  },
  {
   "cell_type": "code",
   "execution_count": null,
   "id": "8663ecdd",
   "metadata": {},
   "outputs": [],
   "source": []
  }
 ],
 "metadata": {
  "kernelspec": {
   "display_name": "annTfandKeras",
   "language": "python",
   "name": "python3"
  },
  "language_info": {
   "codemirror_mode": {
    "name": "ipython",
    "version": 3
   },
   "file_extension": ".py",
   "mimetype": "text/x-python",
   "name": "python",
   "nbconvert_exporter": "python",
   "pygments_lexer": "ipython3",
   "version": "3.12.0"
  }
 },
 "nbformat": 4,
 "nbformat_minor": 5
}
